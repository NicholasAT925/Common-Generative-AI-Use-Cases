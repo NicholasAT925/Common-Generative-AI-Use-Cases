{
  "cells": [
    {
      "cell_type": "markdown",
      "source": [
        "Install google cloud\n"
      ],
      "metadata": {
        "id": "KCH2LUhG8rm4"
      },
      "id": "KCH2LUhG8rm4"
    },
    {
      "cell_type": "code",
      "id": "ZQFV48o7gKkdnD8D14XbVFch",
      "metadata": {
        "tags": [],
        "id": "ZQFV48o7gKkdnD8D14XbVFch",
        "colab": {
          "base_uri": "https://localhost:8080/"
        },
        "outputId": "3d9b7e93-d531-4e12-bf20-e01a28be0155"
      },
      "source": [
        "%pip install --upgrade --quiet google-cloud-aiplatform"
      ],
      "execution_count": null,
      "outputs": [
        {
          "output_type": "stream",
          "name": "stdout",
          "text": [
            "\u001b[2K   \u001b[90m━━━━━━━━━━━━━━━━━━━━━━━━━━━━━━━━━━━━━━━━\u001b[0m \u001b[32m7.6/7.6 MB\u001b[0m \u001b[31m43.4 MB/s\u001b[0m eta \u001b[36m0:00:00\u001b[0m\n",
            "\u001b[?25h\u001b[31mERROR: pip's dependency resolver does not currently take into account all the packages that are installed. This behaviour is the source of the following dependency conflicts.\n",
            "jupyter-server 1.24.0 requires anyio<4,>=3.1.0, but you have anyio 4.9.0 which is incompatible.\u001b[0m\u001b[31m\n",
            "\u001b[0m"
          ]
        }
      ]
    },
    {
      "cell_type": "markdown",
      "source": [
        "# Import packages"
      ],
      "metadata": {
        "id": "3v4fdKA8-BXy"
      },
      "id": "3v4fdKA8-BXy"
    },
    {
      "cell_type": "code",
      "source": [
        "from inspect import cleandoc\n",
        "from IPython.display import display, Markdown\n",
        "\n",
        "import vertexai\n",
        "from vertexai.generative_models import GenerativeModel, GenerationConfig"
      ],
      "metadata": {
        "id": "JG4rNqjo8ve2"
      },
      "id": "JG4rNqjo8ve2",
      "execution_count": null,
      "outputs": []
    },
    {
      "cell_type": "markdown",
      "source": [
        "Initialize Vertex AI\n",
        "Variable to use later"
      ],
      "metadata": {
        "id": "G7z15nUn-Mi5"
      },
      "id": "G7z15nUn-Mi5"
    },
    {
      "cell_type": "code",
      "source": [
        "PROJECT = !gcloud config get-value project\n",
        "PROJECT_ID = PROJECT[0]\n",
        "REGION = \"us-east1\"\n",
        "vertexai.init(project=PROJECT_ID, location=REGION)"
      ],
      "metadata": {
        "id": "_q5GHYqU-Pav"
      },
      "id": "_q5GHYqU-Pav",
      "execution_count": null,
      "outputs": []
    },
    {
      "cell_type": "markdown",
      "source": [
        "# Load a generative model"
      ],
      "metadata": {
        "id": "jUCRbylo-TWP"
      },
      "id": "jUCRbylo-TWP"
    },
    {
      "cell_type": "markdown",
      "source": [
        "Set model"
      ],
      "metadata": {
        "id": "qS2Rd8mm-a8n"
      },
      "id": "qS2Rd8mm-a8n"
    },
    {
      "cell_type": "code",
      "source": [
        "model = GenerativeModel(\"gemini-2.0-flash-001\")"
      ],
      "metadata": {
        "id": "nbCR2Obj-VBI"
      },
      "id": "nbCR2Obj-VBI",
      "execution_count": null,
      "outputs": []
    },
    {
      "cell_type": "markdown",
      "source": [
        "# Ideation"
      ],
      "metadata": {
        "id": "-gFV5HjO-gGY"
      },
      "id": "-gFV5HjO-gGY"
    },
    {
      "cell_type": "markdown",
      "source": [
        "Within the context of using a generative AI model, \"ideation\" means using the model to help you brainstorm new content: article titles, sections to include in a document, interview questions, etc.\n",
        "\n"
      ],
      "metadata": {
        "id": "OEvb-fdy-mR9"
      },
      "id": "OEvb-fdy-mR9"
    },
    {
      "cell_type": "markdown",
      "source": [
        "This is a case where you may want the model to be more creative or surprising in the content it generates. To enable that, create a GenerationConfig object by copying the code below to a new code cell and running it:"
      ],
      "metadata": {
        "id": "9QvL5Xt5-pNE"
      },
      "id": "9QvL5Xt5-pNE"
    },
    {
      "cell_type": "code",
      "source": [
        "creative_gen_config = GenerationConfig(temperature=1, top_p=0.8)"
      ],
      "metadata": {
        "id": "LSVqu9W2-hF7"
      },
      "id": "LSVqu9W2-hF7",
      "execution_count": null,
      "outputs": []
    },
    {
      "cell_type": "markdown",
      "source": [
        "Ideation"
      ],
      "metadata": {
        "id": "U1cjZJiJ-wOi"
      },
      "id": "U1cjZJiJ-wOi"
    },
    {
      "cell_type": "code",
      "source": [
        "prompt = \"What are some strategies for overcoming writer's block?\"\n",
        "\n",
        "response = model.generate_content(prompt,\n",
        "                                  generation_config=creative_gen_config)\n",
        "print(response.text)"
      ],
      "metadata": {
        "colab": {
          "base_uri": "https://localhost:8080/"
        },
        "id": "xLy9JrFp-z_u",
        "outputId": "01bf62b8-6859-4f85-8c40-3d6f9f436518"
      },
      "id": "xLy9JrFp-z_u",
      "execution_count": null,
      "outputs": [
        {
          "output_type": "stream",
          "name": "stdout",
          "text": [
            "Writer's block is a frustrating experience, but it's almost always temporary. Here are some strategies to help you overcome it, categorized for easier navigation:\n",
            "\n",
            "**I. Changing Your Environment and Routine:**\n",
            "\n",
            "*   **Change your location:** Move to a different room, go to a coffee shop, library, park, or even just sit outside. A new environment can spark fresh ideas.\n",
            "*   **Change your writing time:** If you usually write in the morning, try writing in the evening or vice versa.\n",
            "*   **Change your tools:** If you usually type, try writing by hand. If you usually write with a pen, try a different one. Experiment with different software or online writing tools.\n",
            "*   **Take a break:** Sometimes, you just need to step away from the project completely. Do something unrelated to writing – exercise, listen to music, watch a movie, or socialize.\n",
            "*   **Change your posture:** Stand up, walk around, or even lie down while brainstorming.\n",
            "\n",
            "**II. Re-Engaging with Your Project:**\n",
            "\n",
            "*   **Review your notes and research:** Re-familiarize yourself with the material you've already gathered. This can trigger new connections and ideas.\n",
            "*   **Re-read what you've already written:** This can help you remember your initial intentions and spark new directions.\n",
            "*   **Outline or mind-map:** Even if you don't usually outline, creating one can help you organize your thoughts and identify gaps in your knowledge or plot.\n",
            "*   **Start in the middle:** If you're stuck on the beginning, try writing a scene from the middle of your story or argument.\n",
            "*   **Write the easy parts first:** Focus on sections you feel more confident about to build momentum.\n",
            "*   **Focus on one specific aspect:** Instead of trying to tackle the whole project, break it down into smaller, more manageable tasks.\n",
            "*   **Identify the roadblock:** Pinpoint exactly what's stopping you. Is it the beginning, a particular character, a plot point, a specific argument? Knowing the problem helps you target your solutions.\n",
            "\n",
            "**III. Shifting Your Mindset and Approach:**\n",
            "\n",
            "*   **Lower your expectations:** Tell yourself it's okay to write something bad. The goal is just to get something on the page. You can always edit later. \"Perfect is the enemy of good.\"\n",
            "*   **Freewriting:** Set a timer for 5-10 minutes and write whatever comes to mind, without worrying about grammar, structure, or coherence. The goal is to break through the mental barrier.\n",
            "*   **Write a different version:** Imagine you're writing for a different audience, in a different genre, or from a different perspective.\n",
            "*   **Ask \"what if?\" questions:** Explore different possibilities for your story or argument. What if a character made a different choice? What if the premise was slightly different?\n",
            "*   **Embrace imperfection:** Accept that your first draft won't be perfect. The goal is to get the ideas down on paper.\n",
            "*   **Change your perspective:** Write from the perspective of a character, an object, or even a place.\n",
            "*   **Don't edit while you write:** Turn off your inner editor and focus solely on getting the words down. Editing comes later.\n",
            "*   **Visualize success:** Imagine yourself writing effortlessly and enjoying the process.\n",
            "\n",
            "**IV. Seeking External Input:**\n",
            "\n",
            "*   **Talk to someone about your project:** Explain your ideas to a friend, family member, or writing partner. Talking it out can help you clarify your thoughts and identify new possibilities.\n",
            "*   **Get feedback on your work:** Share your work with a trusted reader and ask for constructive criticism.\n",
            "*   **Read related material:** Immerse yourself in books, articles, or films that are relevant to your project. This can provide inspiration and new ideas.\n",
            "*   **Research:** If you're stuck on a particular detail, do some research to learn more about it.\n",
            "*   **Brainstorm with others:** Gather a group of people and brainstorm ideas together.\n",
            "\n",
            "**V. Addressing Underlying Issues:**\n",
            "\n",
            "*   **Manage stress and anxiety:** Writer's block can sometimes be a symptom of underlying stress or anxiety. Practice relaxation techniques like meditation, yoga, or deep breathing.\n",
            "*   **Address self-doubt:** If you're struggling with self-doubt, remind yourself of your past successes and focus on the positive aspects of your work.\n",
            "*   **Identify and challenge negative thoughts:** Recognize the negative thoughts that are contributing to your writer's block and challenge their validity.\n",
            "*   **Consider therapy or counseling:** If your writer's block is persistent and debilitating, consider seeking professional help.\n",
            "\n",
            "**Key Takeaways:**\n",
            "\n",
            "*   **Experiment:** Try different strategies until you find what works for you.\n",
            "*   **Be patient:** Overcoming writer's block takes time and effort. Don't get discouraged if you don't see results immediately.\n",
            "*   **Be kind to yourself:** Don't beat yourself up for struggling. Writer's block is a common experience, and it doesn't mean you're a bad writer.\n",
            "*   **Establish a writing routine:** Regular writing habits can help prevent writer's block in the first place.\n",
            "*   **Remember why you started:** Reconnect with your passion for writing and the reasons why you're working on this project.\n",
            "\n",
            "By using these strategies, you can overcome writer's block and get back to enjoying the process of writing. Good luck!\n",
            "\n"
          ]
        }
      ]
    },
    {
      "cell_type": "markdown",
      "source": [
        "another example of Ideation"
      ],
      "metadata": {
        "id": "IDqTJGcs-7q9"
      },
      "id": "IDqTJGcs-7q9"
    },
    {
      "cell_type": "code",
      "source": [
        "prompt = \"Provide ten interview questions for the role of prompt engineer.\"\n",
        "\n",
        "response = model.generate_content(prompt,\n",
        "                                  generation_config=creative_gen_config)\n",
        "print(response.text)"
      ],
      "metadata": {
        "colab": {
          "base_uri": "https://localhost:8080/"
        },
        "id": "4yxMqXgC-8Lp",
        "outputId": "7cc866c3-13fa-427a-cb1a-04e6a3b53f4f"
      },
      "id": "4yxMqXgC-8Lp",
      "execution_count": null,
      "outputs": [
        {
          "output_type": "stream",
          "name": "stdout",
          "text": [
            "Okay, here are ten interview questions for a Prompt Engineer role, covering different aspects of the job, from technical skills to problem-solving and communication:\n",
            "\n",
            "**1.  Explain your understanding of prompt engineering and its importance in the context of large language models (LLMs). What are some key challenges in designing effective prompts?**\n",
            "\n",
            "    *   **Why this question?** This assesses the candidate's fundamental understanding of the role and the field.  It reveals if they grasp the purpose of prompt engineering, its relationship to LLMs, and the common hurdles faced (e.g., bias, hallucination, sensitivity to phrasing).  Look for answers that mention concepts like few-shot learning, zero-shot learning, and prompt tuning.\n",
            "\n",
            "**2.  Describe a time you had to debug a prompt that was producing unexpected or undesirable results. What steps did you take to identify the issue and improve the prompt?**\n",
            "\n",
            "    *   **Why this question?** This is a behavioral question that probes problem-solving skills and practical experience.  Listen for a structured approach to debugging (e.g., isolating the problem, testing hypotheses, iterating).  Good answers will mention specific techniques they used.\n",
            "\n",
            "**3.  What are some different prompting techniques you're familiar with (e.g., chain-of-thought prompting, few-shot prompting, instruction following)? Can you provide examples of when you would use each technique?**\n",
            "\n",
            "    *   **Why this question?** This assesses the candidate's knowledge of specific prompting strategies and their ability to apply them appropriately.  Expect them to be able to explain the purpose and benefits of different techniques.\n",
            "\n",
            "**4.  How do you approach evaluating the quality of a prompt and the responses it generates? What metrics or criteria do you use?**\n",
            "\n",
            "    *   **Why this question?**  Evaluation is crucial. This question tests the candidate's understanding of how to measure the effectiveness of prompts.  Look for answers that mention both quantitative (e.g., accuracy, precision, recall, F1-score) and qualitative (e.g., relevance, coherence, helpfulness) metrics.  Ideally, they'll also discuss the importance of human evaluation in some cases.\n",
            "\n",
            "**5.  How familiar are you with different LLMs (e.g., GPT-3/4, LaMDA, Bard, LLaMA)? Have you worked with any specific models, and if so, what were your experiences?**\n",
            "\n",
            "    *   **Why this question?**  LLMs have different strengths and weaknesses. This question assesses the candidate's familiarity with the landscape of available models. Experience with specific models is a plus, but even a general understanding is important.  They should be aware that prompt engineering is often model-specific.\n",
            "\n",
            "**6.  Describe a scenario where you had to optimize a prompt for a specific task or application (e.g., content generation, question answering, code generation). What constraints did you have to consider (e.g., latency, cost, resource limitations)?**\n",
            "\n",
            "    *   **Why this question?**  This tests the candidate's ability to apply prompt engineering in a practical context, considering real-world constraints.  Listen for details about the task, the constraints, and the trade-offs they made.\n",
            "\n",
            "**7.  How do you stay up-to-date with the latest advancements in prompt engineering and LLMs? What resources do you find most helpful?**\n",
            "\n",
            "    *   **Why this question?**  The field is rapidly evolving. This question assesses the candidate's commitment to continuous learning and their ability to stay informed.  Look for answers that mention research papers, blogs, conferences, open-source projects, and online communities.\n",
            "\n",
            "**8.  How would you handle a situation where a prompt you designed is producing biased or harmful content? What steps would you take to mitigate the issue?**\n",
            "\n",
            "    *   **Why this question?**  Bias and safety are critical considerations. This question tests the candidate's awareness of these issues and their ability to address them.  Look for answers that mention techniques like:\n",
            "        *   Careful prompt design to avoid triggering biases.\n",
            "        *   Filtering or post-processing the output.\n",
            "        *   Using bias detection tools.\n",
            "        *   Reporting the issue to the model developers.\n",
            "\n",
            "**9.  Let's say we want to build a chatbot that can provide customer support for our product.  Walk me through your process of designing prompts for this chatbot. What considerations would you make?**\n",
            "\n",
            "    *   **Why this question?**  This is a more open-ended, scenario-based question. It allows the candidate to demonstrate their overall approach to prompt engineering.  Listen for a structured process that includes:\n",
            "        *   Understanding the user needs and the chatbot's goals.\n",
            "        *   Defining the scope of the chatbot's knowledge.\n",
            "        *   Designing different types of prompts (e.g., greetings, question answering, error handling).\n",
            "        *   Testing and iterating on the prompts.\n",
            "\n",
            "**10. You're working with a team of developers and designers who are unfamiliar with prompt engineering. How would you explain the value of your role and collaborate effectively with them to integrate prompts into their work?**\n",
            "\n",
            "    *   **Why this question?** This assesses the candidate's communication and collaboration skills.  Prompt engineers often need to explain complex concepts to non-technical audiences.  Look for answers that emphasize clear communication, empathy, and a willingness to teach and learn from others.\n",
            "\n",
            "These questions should give you a good starting point for evaluating candidates for a Prompt Engineer role. Remember to tailor the questions to the specific requirements of your organization and the specific LLMs you are using. Good luck!\n",
            "\n"
          ]
        }
      ]
    },
    {
      "cell_type": "markdown",
      "source": [
        "# Text Classification"
      ],
      "metadata": {
        "id": "IOa-DLhU_Bdq"
      },
      "id": "IOa-DLhU_Bdq"
    },
    {
      "cell_type": "markdown",
      "source": [
        "In modern enterprises, a lot of work is dedicated to putting the right information in the right place. Routing customer support emails to the correct team or sending customer reviews to the relevant department are two examples. To do this, you could ask generative AI to classify those blocks of text to determine the right team.\n",
        "\n",
        "Classification can have many possible applications, including:\n",
        "- Sentiment analysis\n",
        "- Topic classification\n",
        "- Spam detection\n",
        "- Intent recognition\n",
        "- Language identification\n",
        "- Toxicity detection\n",
        "- Emotion detection"
      ],
      "metadata": {
        "id": "FWzLbh26_HDZ"
      },
      "id": "FWzLbh26_HDZ"
    },
    {
      "cell_type": "markdown",
      "source": [
        "For a more tightly-constrained summary, you may want to decrease the temperature and top_p parameters:"
      ],
      "metadata": {
        "id": "nFn71WVM_mNP"
      },
      "id": "nFn71WVM_mNP"
    },
    {
      "cell_type": "code",
      "source": [
        "predictable_gen_config = GenerationConfig(temperature=0.1, top_p=0.1)"
      ],
      "metadata": {
        "id": "f9FsB60o_EgO"
      },
      "id": "f9FsB60o_EgO",
      "execution_count": null,
      "outputs": []
    },
    {
      "cell_type": "markdown",
      "source": [
        "Run the following code cell for an example of intent detection:"
      ],
      "metadata": {
        "id": "YBA3SHJm_rgS"
      },
      "id": "YBA3SHJm_rgS"
    },
    {
      "cell_type": "code",
      "source": [
        "prompt = \"\"\"\n",
        "Given a user's input, classify their intent, such as \"finding information\", \"making a reservation\", or \"placing an order\". \\n\n",
        "user input: Hi, can you please book a table for two at Juan for May 1?\n",
        "\"\"\"\n",
        "\n",
        "response = model.generate_content(\n",
        "    prompt, generation_config=predictable_gen_config\n",
        ")\n",
        "print(response.text)"
      ],
      "metadata": {
        "colab": {
          "base_uri": "https://localhost:8080/"
        },
        "id": "kIQFp9BV_uBI",
        "outputId": "0adf2f88-e09a-4cea-dab4-0b010ad635da"
      },
      "id": "kIQFp9BV_uBI",
      "execution_count": null,
      "outputs": [
        {
          "output_type": "stream",
          "name": "stdout",
          "text": [
            "Making a reservation.\n",
            "\n"
          ]
        }
      ]
    },
    {
      "cell_type": "markdown",
      "source": [
        "You can help guide correct classifications of your data by providing examples:"
      ],
      "metadata": {
        "id": "Smt9GwT7_xEJ"
      },
      "id": "Smt9GwT7_xEJ"
    },
    {
      "cell_type": "code",
      "source": [
        "prompt = \"\"\"\n",
        "What is the topic for a given news headline? \\n\n",
        "- business \\n\n",
        "- entertainment \\n\n",
        "- health \\n\n",
        "- sports \\n\n",
        "- technology \\n\\n\n",
        "\n",
        "Text: Pixel 7 Pro Expert Hands On Review. \\n\n",
        "The answer is: technology \\n\n",
        "\n",
        "Text: Quit smoking? \\n\n",
        "The answer is: health \\n\n",
        "\n",
        "Text: Birdies or bogeys? Top 5 tips to hit under par \\n\n",
        "The answer is: sports \\n\n",
        "\n",
        "Text: Relief from local minimum-wage hike looking more remote \\n\n",
        "The answer is: business \\n\n",
        "\n",
        "Text: You won't guess who just arrived in Bari, Italy for the movie premiere. \\n\n",
        "The answer is:\n",
        "\"\"\"\n",
        "\n",
        "response = model.generate_content(\n",
        "    prompt, generation_config=predictable_gen_config\n",
        ")\n",
        "print(response.text)"
      ],
      "metadata": {
        "colab": {
          "base_uri": "https://localhost:8080/"
        },
        "id": "R5JLjVgo_vIm",
        "outputId": "664828b0-6778-4424-98ed-c229e8189d15"
      },
      "id": "R5JLjVgo_vIm",
      "execution_count": null,
      "outputs": [
        {
          "output_type": "stream",
          "name": "stdout",
          "text": [
            "entertainment\n",
            "\n"
          ]
        }
      ]
    },
    {
      "cell_type": "markdown",
      "source": [
        "One great thing about defining a task as a classification task is that you can evaluate classification results very easily and meaningfully. Run this cell to import pandas as well as a classification_report metric from sklearn. You will also define some ground truth data for evaluation."
      ],
      "metadata": {
        "id": "T4vpQ9-S_3d8"
      },
      "id": "T4vpQ9-S_3d8"
    },
    {
      "cell_type": "code",
      "source": [
        "import pandas as pd\n",
        "from sklearn.metrics import classification_report\n",
        "\n",
        "review_data_df = pd.DataFrame(\n",
        "    {\n",
        "        \"review\": [\n",
        "            \"i love this product. it does have everything i am looking for!\",\n",
        "            \"all i can say is that you will be happy after buying this product\",\n",
        "            \"its way too expensive and not worth the price\",\n",
        "            \"i am feeling okay. its neither good nor too bad.\",\n",
        "        ],\n",
        "        \"sentiment_groundtruth\": [\"positive\", \"positive\", \"negative\", \"neutral\"],\n",
        "    }\n",
        ")\n",
        "\n",
        "review_data_df"
      ],
      "metadata": {
        "colab": {
          "base_uri": "https://localhost:8080/",
          "height": 175
        },
        "id": "AdDWLpPD_71m",
        "outputId": "025f42a3-b48d-476a-a9f6-f6ff18fcb576"
      },
      "id": "AdDWLpPD_71m",
      "execution_count": null,
      "outputs": [
        {
          "output_type": "execute_result",
          "data": {
            "text/plain": [
              "                                              review sentiment_groundtruth\n",
              "0  i love this product. it does have everything i...              positive\n",
              "1  all i can say is that you will be happy after ...              positive\n",
              "2      its way too expensive and not worth the price              negative\n",
              "3   i am feeling okay. its neither good nor too bad.               neutral"
            ],
            "text/html": [
              "\n",
              "  <div id=\"df-382b7607-2648-44bb-8a27-21344c61d421\" class=\"colab-df-container\">\n",
              "    <div>\n",
              "<style scoped>\n",
              "    .dataframe tbody tr th:only-of-type {\n",
              "        vertical-align: middle;\n",
              "    }\n",
              "\n",
              "    .dataframe tbody tr th {\n",
              "        vertical-align: top;\n",
              "    }\n",
              "\n",
              "    .dataframe thead th {\n",
              "        text-align: right;\n",
              "    }\n",
              "</style>\n",
              "<table border=\"1\" class=\"dataframe\">\n",
              "  <thead>\n",
              "    <tr style=\"text-align: right;\">\n",
              "      <th></th>\n",
              "      <th>review</th>\n",
              "      <th>sentiment_groundtruth</th>\n",
              "    </tr>\n",
              "  </thead>\n",
              "  <tbody>\n",
              "    <tr>\n",
              "      <th>0</th>\n",
              "      <td>i love this product. it does have everything i...</td>\n",
              "      <td>positive</td>\n",
              "    </tr>\n",
              "    <tr>\n",
              "      <th>1</th>\n",
              "      <td>all i can say is that you will be happy after ...</td>\n",
              "      <td>positive</td>\n",
              "    </tr>\n",
              "    <tr>\n",
              "      <th>2</th>\n",
              "      <td>its way too expensive and not worth the price</td>\n",
              "      <td>negative</td>\n",
              "    </tr>\n",
              "    <tr>\n",
              "      <th>3</th>\n",
              "      <td>i am feeling okay. its neither good nor too bad.</td>\n",
              "      <td>neutral</td>\n",
              "    </tr>\n",
              "  </tbody>\n",
              "</table>\n",
              "</div>\n",
              "    <div class=\"colab-df-buttons\">\n",
              "\n",
              "  <div class=\"colab-df-container\">\n",
              "    <button class=\"colab-df-convert\" onclick=\"convertToInteractive('df-382b7607-2648-44bb-8a27-21344c61d421')\"\n",
              "            title=\"Convert this dataframe to an interactive table.\"\n",
              "            style=\"display:none;\">\n",
              "\n",
              "  <svg xmlns=\"http://www.w3.org/2000/svg\" height=\"24px\" viewBox=\"0 -960 960 960\">\n",
              "    <path d=\"M120-120v-720h720v720H120Zm60-500h600v-160H180v160Zm220 220h160v-160H400v160Zm0 220h160v-160H400v160ZM180-400h160v-160H180v160Zm440 0h160v-160H620v160ZM180-180h160v-160H180v160Zm440 0h160v-160H620v160Z\"/>\n",
              "  </svg>\n",
              "    </button>\n",
              "\n",
              "  <style>\n",
              "    .colab-df-container {\n",
              "      display:flex;\n",
              "      gap: 12px;\n",
              "    }\n",
              "\n",
              "    .colab-df-convert {\n",
              "      background-color: #E8F0FE;\n",
              "      border: none;\n",
              "      border-radius: 50%;\n",
              "      cursor: pointer;\n",
              "      display: none;\n",
              "      fill: #1967D2;\n",
              "      height: 32px;\n",
              "      padding: 0 0 0 0;\n",
              "      width: 32px;\n",
              "    }\n",
              "\n",
              "    .colab-df-convert:hover {\n",
              "      background-color: #E2EBFA;\n",
              "      box-shadow: 0px 1px 2px rgba(60, 64, 67, 0.3), 0px 1px 3px 1px rgba(60, 64, 67, 0.15);\n",
              "      fill: #174EA6;\n",
              "    }\n",
              "\n",
              "    .colab-df-buttons div {\n",
              "      margin-bottom: 4px;\n",
              "    }\n",
              "\n",
              "    [theme=dark] .colab-df-convert {\n",
              "      background-color: #3B4455;\n",
              "      fill: #D2E3FC;\n",
              "    }\n",
              "\n",
              "    [theme=dark] .colab-df-convert:hover {\n",
              "      background-color: #434B5C;\n",
              "      box-shadow: 0px 1px 3px 1px rgba(0, 0, 0, 0.15);\n",
              "      filter: drop-shadow(0px 1px 2px rgba(0, 0, 0, 0.3));\n",
              "      fill: #FFFFFF;\n",
              "    }\n",
              "  </style>\n",
              "\n",
              "    <script>\n",
              "      const buttonEl =\n",
              "        document.querySelector('#df-382b7607-2648-44bb-8a27-21344c61d421 button.colab-df-convert');\n",
              "      buttonEl.style.display =\n",
              "        google.colab.kernel.accessAllowed ? 'block' : 'none';\n",
              "\n",
              "      async function convertToInteractive(key) {\n",
              "        const element = document.querySelector('#df-382b7607-2648-44bb-8a27-21344c61d421');\n",
              "        const dataTable =\n",
              "          await google.colab.kernel.invokeFunction('convertToInteractive',\n",
              "                                                    [key], {});\n",
              "        if (!dataTable) return;\n",
              "\n",
              "        const docLinkHtml = 'Like what you see? Visit the ' +\n",
              "          '<a target=\"_blank\" href=https://colab.research.google.com/notebooks/data_table.ipynb>data table notebook</a>'\n",
              "          + ' to learn more about interactive tables.';\n",
              "        element.innerHTML = '';\n",
              "        dataTable['output_type'] = 'display_data';\n",
              "        await google.colab.output.renderOutput(dataTable, element);\n",
              "        const docLink = document.createElement('div');\n",
              "        docLink.innerHTML = docLinkHtml;\n",
              "        element.appendChild(docLink);\n",
              "      }\n",
              "    </script>\n",
              "  </div>\n",
              "\n",
              "\n",
              "<div id=\"df-1c8a9e96-e504-4099-acd7-86067b5968cf\">\n",
              "  <button class=\"colab-df-quickchart\" onclick=\"quickchart('df-1c8a9e96-e504-4099-acd7-86067b5968cf')\"\n",
              "            title=\"Suggest charts\"\n",
              "            style=\"display:none;\">\n",
              "\n",
              "<svg xmlns=\"http://www.w3.org/2000/svg\" height=\"24px\"viewBox=\"0 0 24 24\"\n",
              "     width=\"24px\">\n",
              "    <g>\n",
              "        <path d=\"M19 3H5c-1.1 0-2 .9-2 2v14c0 1.1.9 2 2 2h14c1.1 0 2-.9 2-2V5c0-1.1-.9-2-2-2zM9 17H7v-7h2v7zm4 0h-2V7h2v10zm4 0h-2v-4h2v4z\"/>\n",
              "    </g>\n",
              "</svg>\n",
              "  </button>\n",
              "\n",
              "<style>\n",
              "  .colab-df-quickchart {\n",
              "      --bg-color: #E8F0FE;\n",
              "      --fill-color: #1967D2;\n",
              "      --hover-bg-color: #E2EBFA;\n",
              "      --hover-fill-color: #174EA6;\n",
              "      --disabled-fill-color: #AAA;\n",
              "      --disabled-bg-color: #DDD;\n",
              "  }\n",
              "\n",
              "  [theme=dark] .colab-df-quickchart {\n",
              "      --bg-color: #3B4455;\n",
              "      --fill-color: #D2E3FC;\n",
              "      --hover-bg-color: #434B5C;\n",
              "      --hover-fill-color: #FFFFFF;\n",
              "      --disabled-bg-color: #3B4455;\n",
              "      --disabled-fill-color: #666;\n",
              "  }\n",
              "\n",
              "  .colab-df-quickchart {\n",
              "    background-color: var(--bg-color);\n",
              "    border: none;\n",
              "    border-radius: 50%;\n",
              "    cursor: pointer;\n",
              "    display: none;\n",
              "    fill: var(--fill-color);\n",
              "    height: 32px;\n",
              "    padding: 0;\n",
              "    width: 32px;\n",
              "  }\n",
              "\n",
              "  .colab-df-quickchart:hover {\n",
              "    background-color: var(--hover-bg-color);\n",
              "    box-shadow: 0 1px 2px rgba(60, 64, 67, 0.3), 0 1px 3px 1px rgba(60, 64, 67, 0.15);\n",
              "    fill: var(--button-hover-fill-color);\n",
              "  }\n",
              "\n",
              "  .colab-df-quickchart-complete:disabled,\n",
              "  .colab-df-quickchart-complete:disabled:hover {\n",
              "    background-color: var(--disabled-bg-color);\n",
              "    fill: var(--disabled-fill-color);\n",
              "    box-shadow: none;\n",
              "  }\n",
              "\n",
              "  .colab-df-spinner {\n",
              "    border: 2px solid var(--fill-color);\n",
              "    border-color: transparent;\n",
              "    border-bottom-color: var(--fill-color);\n",
              "    animation:\n",
              "      spin 1s steps(1) infinite;\n",
              "  }\n",
              "\n",
              "  @keyframes spin {\n",
              "    0% {\n",
              "      border-color: transparent;\n",
              "      border-bottom-color: var(--fill-color);\n",
              "      border-left-color: var(--fill-color);\n",
              "    }\n",
              "    20% {\n",
              "      border-color: transparent;\n",
              "      border-left-color: var(--fill-color);\n",
              "      border-top-color: var(--fill-color);\n",
              "    }\n",
              "    30% {\n",
              "      border-color: transparent;\n",
              "      border-left-color: var(--fill-color);\n",
              "      border-top-color: var(--fill-color);\n",
              "      border-right-color: var(--fill-color);\n",
              "    }\n",
              "    40% {\n",
              "      border-color: transparent;\n",
              "      border-right-color: var(--fill-color);\n",
              "      border-top-color: var(--fill-color);\n",
              "    }\n",
              "    60% {\n",
              "      border-color: transparent;\n",
              "      border-right-color: var(--fill-color);\n",
              "    }\n",
              "    80% {\n",
              "      border-color: transparent;\n",
              "      border-right-color: var(--fill-color);\n",
              "      border-bottom-color: var(--fill-color);\n",
              "    }\n",
              "    90% {\n",
              "      border-color: transparent;\n",
              "      border-bottom-color: var(--fill-color);\n",
              "    }\n",
              "  }\n",
              "</style>\n",
              "\n",
              "  <script>\n",
              "    async function quickchart(key) {\n",
              "      const quickchartButtonEl =\n",
              "        document.querySelector('#' + key + ' button');\n",
              "      quickchartButtonEl.disabled = true;  // To prevent multiple clicks.\n",
              "      quickchartButtonEl.classList.add('colab-df-spinner');\n",
              "      try {\n",
              "        const charts = await google.colab.kernel.invokeFunction(\n",
              "            'suggestCharts', [key], {});\n",
              "      } catch (error) {\n",
              "        console.error('Error during call to suggestCharts:', error);\n",
              "      }\n",
              "      quickchartButtonEl.classList.remove('colab-df-spinner');\n",
              "      quickchartButtonEl.classList.add('colab-df-quickchart-complete');\n",
              "    }\n",
              "    (() => {\n",
              "      let quickchartButtonEl =\n",
              "        document.querySelector('#df-1c8a9e96-e504-4099-acd7-86067b5968cf button');\n",
              "      quickchartButtonEl.style.display =\n",
              "        google.colab.kernel.accessAllowed ? 'block' : 'none';\n",
              "    })();\n",
              "  </script>\n",
              "</div>\n",
              "\n",
              "  <div id=\"id_896694a6-faa5-4417-8da3-a668726c4be4\">\n",
              "    <style>\n",
              "      .colab-df-generate {\n",
              "        background-color: #E8F0FE;\n",
              "        border: none;\n",
              "        border-radius: 50%;\n",
              "        cursor: pointer;\n",
              "        display: none;\n",
              "        fill: #1967D2;\n",
              "        height: 32px;\n",
              "        padding: 0 0 0 0;\n",
              "        width: 32px;\n",
              "      }\n",
              "\n",
              "      .colab-df-generate:hover {\n",
              "        background-color: #E2EBFA;\n",
              "        box-shadow: 0px 1px 2px rgba(60, 64, 67, 0.3), 0px 1px 3px 1px rgba(60, 64, 67, 0.15);\n",
              "        fill: #174EA6;\n",
              "      }\n",
              "\n",
              "      [theme=dark] .colab-df-generate {\n",
              "        background-color: #3B4455;\n",
              "        fill: #D2E3FC;\n",
              "      }\n",
              "\n",
              "      [theme=dark] .colab-df-generate:hover {\n",
              "        background-color: #434B5C;\n",
              "        box-shadow: 0px 1px 3px 1px rgba(0, 0, 0, 0.15);\n",
              "        filter: drop-shadow(0px 1px 2px rgba(0, 0, 0, 0.3));\n",
              "        fill: #FFFFFF;\n",
              "      }\n",
              "    </style>\n",
              "    <button class=\"colab-df-generate\" onclick=\"generateWithVariable('review_data_df')\"\n",
              "            title=\"Generate code using this dataframe.\"\n",
              "            style=\"display:none;\">\n",
              "\n",
              "  <svg xmlns=\"http://www.w3.org/2000/svg\" height=\"24px\"viewBox=\"0 0 24 24\"\n",
              "       width=\"24px\">\n",
              "    <path d=\"M7,19H8.4L18.45,9,17,7.55,7,17.6ZM5,21V16.75L18.45,3.32a2,2,0,0,1,2.83,0l1.4,1.43a1.91,1.91,0,0,1,.58,1.4,1.91,1.91,0,0,1-.58,1.4L9.25,21ZM18.45,9,17,7.55Zm-12,3A5.31,5.31,0,0,0,4.9,8.1,5.31,5.31,0,0,0,1,6.5,5.31,5.31,0,0,0,4.9,4.9,5.31,5.31,0,0,0,6.5,1,5.31,5.31,0,0,0,8.1,4.9,5.31,5.31,0,0,0,12,6.5,5.46,5.46,0,0,0,6.5,12Z\"/>\n",
              "  </svg>\n",
              "    </button>\n",
              "    <script>\n",
              "      (() => {\n",
              "      const buttonEl =\n",
              "        document.querySelector('#id_896694a6-faa5-4417-8da3-a668726c4be4 button.colab-df-generate');\n",
              "      buttonEl.style.display =\n",
              "        google.colab.kernel.accessAllowed ? 'block' : 'none';\n",
              "\n",
              "      buttonEl.onclick = () => {\n",
              "        google.colab.notebook.generateWithVariable('review_data_df');\n",
              "      }\n",
              "      })();\n",
              "    </script>\n",
              "  </div>\n",
              "\n",
              "    </div>\n",
              "  </div>\n"
            ],
            "application/vnd.google.colaboratory.intrinsic+json": {
              "type": "dataframe",
              "variable_name": "review_data_df",
              "summary": "{\n  \"name\": \"review_data_df\",\n  \"rows\": 4,\n  \"fields\": [\n    {\n      \"column\": \"review\",\n      \"properties\": {\n        \"dtype\": \"string\",\n        \"num_unique_values\": 4,\n        \"samples\": [\n          \"all i can say is that you will be happy after buying this product\",\n          \"i am feeling okay. its neither good nor too bad.\",\n          \"i love this product. it does have everything i am looking for!\"\n        ],\n        \"semantic_type\": \"\",\n        \"description\": \"\"\n      }\n    },\n    {\n      \"column\": \"sentiment_groundtruth\",\n      \"properties\": {\n        \"dtype\": \"string\",\n        \"num_unique_values\": 3,\n        \"samples\": [\n          \"positive\",\n          \"negative\",\n          \"neutral\"\n        ],\n        \"semantic_type\": \"\",\n        \"description\": \"\"\n      }\n    }\n  ]\n}"
            }
          },
          "metadata": {},
          "execution_count": 11
        }
      ]
    },
    {
      "cell_type": "markdown",
      "source": [
        "Now that you have the data with reviews and sentiments as ground truth labels, you can call the text generation model on each review row using the apply function. The get_sentiment function will be called to predict the sentiment for each row's review column, and the results will be stored in the sentiment_prediction column."
      ],
      "metadata": {
        "id": "P5NwZgUrALof"
      },
      "id": "P5NwZgUrALof"
    },
    {
      "cell_type": "code",
      "source": [
        "def get_sentiment(row):\n",
        "    prompt = f\"\"\"Classify the sentiment of the following review as \"positive\", \"neutral\" or \"negative\". Return only the classification.\n",
        "                review: {row}\n",
        "              \"\"\"\n",
        "    response = model.generate_content(\n",
        "        contents=prompt, generation_config=predictable_gen_config\n",
        "    ).text\n",
        "    return response\n",
        "\n",
        "\n",
        "review_data_df[\"sentiment_prediction\"] = review_data_df[\"review\"].apply(get_sentiment)\n",
        "review_data_df"
      ],
      "metadata": {
        "colab": {
          "base_uri": "https://localhost:8080/",
          "height": 175
        },
        "id": "sSl2LqxS_9oT",
        "outputId": "12278b51-3316-4659-cfc4-03cbb654ef6e"
      },
      "id": "sSl2LqxS_9oT",
      "execution_count": null,
      "outputs": [
        {
          "output_type": "execute_result",
          "data": {
            "text/plain": [
              "                                              review sentiment_groundtruth  \\\n",
              "0  i love this product. it does have everything i...              positive   \n",
              "1  all i can say is that you will be happy after ...              positive   \n",
              "2      its way too expensive and not worth the price              negative   \n",
              "3   i am feeling okay. its neither good nor too bad.               neutral   \n",
              "\n",
              "  sentiment_prediction  \n",
              "0           positive\\n  \n",
              "1           positive\\n  \n",
              "2           negative\\n  \n",
              "3            Neutral\\n  "
            ],
            "text/html": [
              "\n",
              "  <div id=\"df-dcfb473e-524e-42f0-83e1-d07510844104\" class=\"colab-df-container\">\n",
              "    <div>\n",
              "<style scoped>\n",
              "    .dataframe tbody tr th:only-of-type {\n",
              "        vertical-align: middle;\n",
              "    }\n",
              "\n",
              "    .dataframe tbody tr th {\n",
              "        vertical-align: top;\n",
              "    }\n",
              "\n",
              "    .dataframe thead th {\n",
              "        text-align: right;\n",
              "    }\n",
              "</style>\n",
              "<table border=\"1\" class=\"dataframe\">\n",
              "  <thead>\n",
              "    <tr style=\"text-align: right;\">\n",
              "      <th></th>\n",
              "      <th>review</th>\n",
              "      <th>sentiment_groundtruth</th>\n",
              "      <th>sentiment_prediction</th>\n",
              "    </tr>\n",
              "  </thead>\n",
              "  <tbody>\n",
              "    <tr>\n",
              "      <th>0</th>\n",
              "      <td>i love this product. it does have everything i...</td>\n",
              "      <td>positive</td>\n",
              "      <td>positive\\n</td>\n",
              "    </tr>\n",
              "    <tr>\n",
              "      <th>1</th>\n",
              "      <td>all i can say is that you will be happy after ...</td>\n",
              "      <td>positive</td>\n",
              "      <td>positive\\n</td>\n",
              "    </tr>\n",
              "    <tr>\n",
              "      <th>2</th>\n",
              "      <td>its way too expensive and not worth the price</td>\n",
              "      <td>negative</td>\n",
              "      <td>negative\\n</td>\n",
              "    </tr>\n",
              "    <tr>\n",
              "      <th>3</th>\n",
              "      <td>i am feeling okay. its neither good nor too bad.</td>\n",
              "      <td>neutral</td>\n",
              "      <td>Neutral\\n</td>\n",
              "    </tr>\n",
              "  </tbody>\n",
              "</table>\n",
              "</div>\n",
              "    <div class=\"colab-df-buttons\">\n",
              "\n",
              "  <div class=\"colab-df-container\">\n",
              "    <button class=\"colab-df-convert\" onclick=\"convertToInteractive('df-dcfb473e-524e-42f0-83e1-d07510844104')\"\n",
              "            title=\"Convert this dataframe to an interactive table.\"\n",
              "            style=\"display:none;\">\n",
              "\n",
              "  <svg xmlns=\"http://www.w3.org/2000/svg\" height=\"24px\" viewBox=\"0 -960 960 960\">\n",
              "    <path d=\"M120-120v-720h720v720H120Zm60-500h600v-160H180v160Zm220 220h160v-160H400v160Zm0 220h160v-160H400v160ZM180-400h160v-160H180v160Zm440 0h160v-160H620v160ZM180-180h160v-160H180v160Zm440 0h160v-160H620v160Z\"/>\n",
              "  </svg>\n",
              "    </button>\n",
              "\n",
              "  <style>\n",
              "    .colab-df-container {\n",
              "      display:flex;\n",
              "      gap: 12px;\n",
              "    }\n",
              "\n",
              "    .colab-df-convert {\n",
              "      background-color: #E8F0FE;\n",
              "      border: none;\n",
              "      border-radius: 50%;\n",
              "      cursor: pointer;\n",
              "      display: none;\n",
              "      fill: #1967D2;\n",
              "      height: 32px;\n",
              "      padding: 0 0 0 0;\n",
              "      width: 32px;\n",
              "    }\n",
              "\n",
              "    .colab-df-convert:hover {\n",
              "      background-color: #E2EBFA;\n",
              "      box-shadow: 0px 1px 2px rgba(60, 64, 67, 0.3), 0px 1px 3px 1px rgba(60, 64, 67, 0.15);\n",
              "      fill: #174EA6;\n",
              "    }\n",
              "\n",
              "    .colab-df-buttons div {\n",
              "      margin-bottom: 4px;\n",
              "    }\n",
              "\n",
              "    [theme=dark] .colab-df-convert {\n",
              "      background-color: #3B4455;\n",
              "      fill: #D2E3FC;\n",
              "    }\n",
              "\n",
              "    [theme=dark] .colab-df-convert:hover {\n",
              "      background-color: #434B5C;\n",
              "      box-shadow: 0px 1px 3px 1px rgba(0, 0, 0, 0.15);\n",
              "      filter: drop-shadow(0px 1px 2px rgba(0, 0, 0, 0.3));\n",
              "      fill: #FFFFFF;\n",
              "    }\n",
              "  </style>\n",
              "\n",
              "    <script>\n",
              "      const buttonEl =\n",
              "        document.querySelector('#df-dcfb473e-524e-42f0-83e1-d07510844104 button.colab-df-convert');\n",
              "      buttonEl.style.display =\n",
              "        google.colab.kernel.accessAllowed ? 'block' : 'none';\n",
              "\n",
              "      async function convertToInteractive(key) {\n",
              "        const element = document.querySelector('#df-dcfb473e-524e-42f0-83e1-d07510844104');\n",
              "        const dataTable =\n",
              "          await google.colab.kernel.invokeFunction('convertToInteractive',\n",
              "                                                    [key], {});\n",
              "        if (!dataTable) return;\n",
              "\n",
              "        const docLinkHtml = 'Like what you see? Visit the ' +\n",
              "          '<a target=\"_blank\" href=https://colab.research.google.com/notebooks/data_table.ipynb>data table notebook</a>'\n",
              "          + ' to learn more about interactive tables.';\n",
              "        element.innerHTML = '';\n",
              "        dataTable['output_type'] = 'display_data';\n",
              "        await google.colab.output.renderOutput(dataTable, element);\n",
              "        const docLink = document.createElement('div');\n",
              "        docLink.innerHTML = docLinkHtml;\n",
              "        element.appendChild(docLink);\n",
              "      }\n",
              "    </script>\n",
              "  </div>\n",
              "\n",
              "\n",
              "<div id=\"df-87a4a93c-4532-4313-91bf-c5571506cbf8\">\n",
              "  <button class=\"colab-df-quickchart\" onclick=\"quickchart('df-87a4a93c-4532-4313-91bf-c5571506cbf8')\"\n",
              "            title=\"Suggest charts\"\n",
              "            style=\"display:none;\">\n",
              "\n",
              "<svg xmlns=\"http://www.w3.org/2000/svg\" height=\"24px\"viewBox=\"0 0 24 24\"\n",
              "     width=\"24px\">\n",
              "    <g>\n",
              "        <path d=\"M19 3H5c-1.1 0-2 .9-2 2v14c0 1.1.9 2 2 2h14c1.1 0 2-.9 2-2V5c0-1.1-.9-2-2-2zM9 17H7v-7h2v7zm4 0h-2V7h2v10zm4 0h-2v-4h2v4z\"/>\n",
              "    </g>\n",
              "</svg>\n",
              "  </button>\n",
              "\n",
              "<style>\n",
              "  .colab-df-quickchart {\n",
              "      --bg-color: #E8F0FE;\n",
              "      --fill-color: #1967D2;\n",
              "      --hover-bg-color: #E2EBFA;\n",
              "      --hover-fill-color: #174EA6;\n",
              "      --disabled-fill-color: #AAA;\n",
              "      --disabled-bg-color: #DDD;\n",
              "  }\n",
              "\n",
              "  [theme=dark] .colab-df-quickchart {\n",
              "      --bg-color: #3B4455;\n",
              "      --fill-color: #D2E3FC;\n",
              "      --hover-bg-color: #434B5C;\n",
              "      --hover-fill-color: #FFFFFF;\n",
              "      --disabled-bg-color: #3B4455;\n",
              "      --disabled-fill-color: #666;\n",
              "  }\n",
              "\n",
              "  .colab-df-quickchart {\n",
              "    background-color: var(--bg-color);\n",
              "    border: none;\n",
              "    border-radius: 50%;\n",
              "    cursor: pointer;\n",
              "    display: none;\n",
              "    fill: var(--fill-color);\n",
              "    height: 32px;\n",
              "    padding: 0;\n",
              "    width: 32px;\n",
              "  }\n",
              "\n",
              "  .colab-df-quickchart:hover {\n",
              "    background-color: var(--hover-bg-color);\n",
              "    box-shadow: 0 1px 2px rgba(60, 64, 67, 0.3), 0 1px 3px 1px rgba(60, 64, 67, 0.15);\n",
              "    fill: var(--button-hover-fill-color);\n",
              "  }\n",
              "\n",
              "  .colab-df-quickchart-complete:disabled,\n",
              "  .colab-df-quickchart-complete:disabled:hover {\n",
              "    background-color: var(--disabled-bg-color);\n",
              "    fill: var(--disabled-fill-color);\n",
              "    box-shadow: none;\n",
              "  }\n",
              "\n",
              "  .colab-df-spinner {\n",
              "    border: 2px solid var(--fill-color);\n",
              "    border-color: transparent;\n",
              "    border-bottom-color: var(--fill-color);\n",
              "    animation:\n",
              "      spin 1s steps(1) infinite;\n",
              "  }\n",
              "\n",
              "  @keyframes spin {\n",
              "    0% {\n",
              "      border-color: transparent;\n",
              "      border-bottom-color: var(--fill-color);\n",
              "      border-left-color: var(--fill-color);\n",
              "    }\n",
              "    20% {\n",
              "      border-color: transparent;\n",
              "      border-left-color: var(--fill-color);\n",
              "      border-top-color: var(--fill-color);\n",
              "    }\n",
              "    30% {\n",
              "      border-color: transparent;\n",
              "      border-left-color: var(--fill-color);\n",
              "      border-top-color: var(--fill-color);\n",
              "      border-right-color: var(--fill-color);\n",
              "    }\n",
              "    40% {\n",
              "      border-color: transparent;\n",
              "      border-right-color: var(--fill-color);\n",
              "      border-top-color: var(--fill-color);\n",
              "    }\n",
              "    60% {\n",
              "      border-color: transparent;\n",
              "      border-right-color: var(--fill-color);\n",
              "    }\n",
              "    80% {\n",
              "      border-color: transparent;\n",
              "      border-right-color: var(--fill-color);\n",
              "      border-bottom-color: var(--fill-color);\n",
              "    }\n",
              "    90% {\n",
              "      border-color: transparent;\n",
              "      border-bottom-color: var(--fill-color);\n",
              "    }\n",
              "  }\n",
              "</style>\n",
              "\n",
              "  <script>\n",
              "    async function quickchart(key) {\n",
              "      const quickchartButtonEl =\n",
              "        document.querySelector('#' + key + ' button');\n",
              "      quickchartButtonEl.disabled = true;  // To prevent multiple clicks.\n",
              "      quickchartButtonEl.classList.add('colab-df-spinner');\n",
              "      try {\n",
              "        const charts = await google.colab.kernel.invokeFunction(\n",
              "            'suggestCharts', [key], {});\n",
              "      } catch (error) {\n",
              "        console.error('Error during call to suggestCharts:', error);\n",
              "      }\n",
              "      quickchartButtonEl.classList.remove('colab-df-spinner');\n",
              "      quickchartButtonEl.classList.add('colab-df-quickchart-complete');\n",
              "    }\n",
              "    (() => {\n",
              "      let quickchartButtonEl =\n",
              "        document.querySelector('#df-87a4a93c-4532-4313-91bf-c5571506cbf8 button');\n",
              "      quickchartButtonEl.style.display =\n",
              "        google.colab.kernel.accessAllowed ? 'block' : 'none';\n",
              "    })();\n",
              "  </script>\n",
              "</div>\n",
              "\n",
              "  <div id=\"id_ffba8177-5bda-4f1d-8b38-fbeb86441d17\">\n",
              "    <style>\n",
              "      .colab-df-generate {\n",
              "        background-color: #E8F0FE;\n",
              "        border: none;\n",
              "        border-radius: 50%;\n",
              "        cursor: pointer;\n",
              "        display: none;\n",
              "        fill: #1967D2;\n",
              "        height: 32px;\n",
              "        padding: 0 0 0 0;\n",
              "        width: 32px;\n",
              "      }\n",
              "\n",
              "      .colab-df-generate:hover {\n",
              "        background-color: #E2EBFA;\n",
              "        box-shadow: 0px 1px 2px rgba(60, 64, 67, 0.3), 0px 1px 3px 1px rgba(60, 64, 67, 0.15);\n",
              "        fill: #174EA6;\n",
              "      }\n",
              "\n",
              "      [theme=dark] .colab-df-generate {\n",
              "        background-color: #3B4455;\n",
              "        fill: #D2E3FC;\n",
              "      }\n",
              "\n",
              "      [theme=dark] .colab-df-generate:hover {\n",
              "        background-color: #434B5C;\n",
              "        box-shadow: 0px 1px 3px 1px rgba(0, 0, 0, 0.15);\n",
              "        filter: drop-shadow(0px 1px 2px rgba(0, 0, 0, 0.3));\n",
              "        fill: #FFFFFF;\n",
              "      }\n",
              "    </style>\n",
              "    <button class=\"colab-df-generate\" onclick=\"generateWithVariable('review_data_df')\"\n",
              "            title=\"Generate code using this dataframe.\"\n",
              "            style=\"display:none;\">\n",
              "\n",
              "  <svg xmlns=\"http://www.w3.org/2000/svg\" height=\"24px\"viewBox=\"0 0 24 24\"\n",
              "       width=\"24px\">\n",
              "    <path d=\"M7,19H8.4L18.45,9,17,7.55,7,17.6ZM5,21V16.75L18.45,3.32a2,2,0,0,1,2.83,0l1.4,1.43a1.91,1.91,0,0,1,.58,1.4,1.91,1.91,0,0,1-.58,1.4L9.25,21ZM18.45,9,17,7.55Zm-12,3A5.31,5.31,0,0,0,4.9,8.1,5.31,5.31,0,0,0,1,6.5,5.31,5.31,0,0,0,4.9,4.9,5.31,5.31,0,0,0,6.5,1,5.31,5.31,0,0,0,8.1,4.9,5.31,5.31,0,0,0,12,6.5,5.46,5.46,0,0,0,6.5,12Z\"/>\n",
              "  </svg>\n",
              "    </button>\n",
              "    <script>\n",
              "      (() => {\n",
              "      const buttonEl =\n",
              "        document.querySelector('#id_ffba8177-5bda-4f1d-8b38-fbeb86441d17 button.colab-df-generate');\n",
              "      buttonEl.style.display =\n",
              "        google.colab.kernel.accessAllowed ? 'block' : 'none';\n",
              "\n",
              "      buttonEl.onclick = () => {\n",
              "        google.colab.notebook.generateWithVariable('review_data_df');\n",
              "      }\n",
              "      })();\n",
              "    </script>\n",
              "  </div>\n",
              "\n",
              "    </div>\n",
              "  </div>\n"
            ],
            "application/vnd.google.colaboratory.intrinsic+json": {
              "type": "dataframe",
              "variable_name": "review_data_df",
              "summary": "{\n  \"name\": \"review_data_df\",\n  \"rows\": 4,\n  \"fields\": [\n    {\n      \"column\": \"review\",\n      \"properties\": {\n        \"dtype\": \"string\",\n        \"num_unique_values\": 4,\n        \"samples\": [\n          \"all i can say is that you will be happy after buying this product\",\n          \"i am feeling okay. its neither good nor too bad.\",\n          \"i love this product. it does have everything i am looking for!\"\n        ],\n        \"semantic_type\": \"\",\n        \"description\": \"\"\n      }\n    },\n    {\n      \"column\": \"sentiment_groundtruth\",\n      \"properties\": {\n        \"dtype\": \"string\",\n        \"num_unique_values\": 3,\n        \"samples\": [\n          \"positive\",\n          \"negative\",\n          \"neutral\"\n        ],\n        \"semantic_type\": \"\",\n        \"description\": \"\"\n      }\n    },\n    {\n      \"column\": \"sentiment_prediction\",\n      \"properties\": {\n        \"dtype\": \"string\",\n        \"num_unique_values\": 3,\n        \"samples\": [\n          \"positive\\n\",\n          \"negative\\n\",\n          \"Neutral\\n\"\n        ],\n        \"semantic_type\": \"\",\n        \"description\": \"\"\n      }\n    }\n  ]\n}"
            }
          },
          "metadata": {},
          "execution_count": 12
        }
      ]
    },
    {
      "cell_type": "markdown",
      "source": [
        "Now you can call the classification_report function from sklearn to return classification metrics based on comparing the sentiment_groundtruth and predicted sentiment_prediction fields:"
      ],
      "metadata": {
        "id": "7DNrycQrBB3K"
      },
      "id": "7DNrycQrBB3K"
    },
    {
      "cell_type": "code",
      "source": [
        "report = classification_report(\n",
        "    review_data_df[\"sentiment_groundtruth\"], review_data_df[\"sentiment_prediction\"]\n",
        ")\n",
        "Markdown(report)"
      ],
      "metadata": {
        "colab": {
          "base_uri": "https://localhost:8080/",
          "height": 408
        },
        "id": "4lAGqurzBCrp",
        "outputId": "ecc7830a-4c04-4a10-ebda-a0b6bd372ada"
      },
      "id": "4lAGqurzBCrp",
      "execution_count": null,
      "outputs": [
        {
          "output_type": "stream",
          "name": "stderr",
          "text": [
            "/usr/local/lib/python3.10/dist-packages/sklearn/metrics/_classification.py:1565: UndefinedMetricWarning: Precision is ill-defined and being set to 0.0 in labels with no predicted samples. Use `zero_division` parameter to control this behavior.\n",
            "  _warn_prf(average, modifier, f\"{metric.capitalize()} is\", len(result))\n",
            "/usr/local/lib/python3.10/dist-packages/sklearn/metrics/_classification.py:1565: UndefinedMetricWarning: Recall is ill-defined and being set to 0.0 in labels with no true samples. Use `zero_division` parameter to control this behavior.\n",
            "  _warn_prf(average, modifier, f\"{metric.capitalize()} is\", len(result))\n",
            "/usr/local/lib/python3.10/dist-packages/sklearn/metrics/_classification.py:1565: UndefinedMetricWarning: Precision is ill-defined and being set to 0.0 in labels with no predicted samples. Use `zero_division` parameter to control this behavior.\n",
            "  _warn_prf(average, modifier, f\"{metric.capitalize()} is\", len(result))\n",
            "/usr/local/lib/python3.10/dist-packages/sklearn/metrics/_classification.py:1565: UndefinedMetricWarning: Recall is ill-defined and being set to 0.0 in labels with no true samples. Use `zero_division` parameter to control this behavior.\n",
            "  _warn_prf(average, modifier, f\"{metric.capitalize()} is\", len(result))\n",
            "/usr/local/lib/python3.10/dist-packages/sklearn/metrics/_classification.py:1565: UndefinedMetricWarning: Precision is ill-defined and being set to 0.0 in labels with no predicted samples. Use `zero_division` parameter to control this behavior.\n",
            "  _warn_prf(average, modifier, f\"{metric.capitalize()} is\", len(result))\n",
            "/usr/local/lib/python3.10/dist-packages/sklearn/metrics/_classification.py:1565: UndefinedMetricWarning: Recall is ill-defined and being set to 0.0 in labels with no true samples. Use `zero_division` parameter to control this behavior.\n",
            "  _warn_prf(average, modifier, f\"{metric.capitalize()} is\", len(result))\n"
          ]
        },
        {
          "output_type": "execute_result",
          "data": {
            "text/plain": [
              "<IPython.core.display.Markdown object>"
            ],
            "text/markdown": "              precision    recall  f1-score   support\n\n    Neutral\n       0.00      0.00      0.00       0.0\n    negative       0.00      0.00      0.00       1.0\n   negative\n       0.00      0.00      0.00       0.0\n     neutral       0.00      0.00      0.00       1.0\n    positive       0.00      0.00      0.00       2.0\n   positive\n       0.00      0.00      0.00       0.0\n\n    accuracy                           0.00       4.0\n   macro avg       0.00      0.00      0.00       4.0\nweighted avg       0.00      0.00      0.00       4.0\n"
          },
          "metadata": {},
          "execution_count": 13
        }
      ]
    },
    {
      "cell_type": "markdown",
      "source": [
        "If you need a refresher on interpreting this report, you can review [Classification metrics in the Google ML Crash Course](https://developers.google.com/machine-learning/crash-course/classification/accuracy-precision-recall)."
      ],
      "metadata": {
        "id": "e4CspJFtBSZQ"
      },
      "id": "e4CspJFtBSZQ"
    },
    {
      "cell_type": "markdown",
      "source": [
        "# Text Summarization"
      ],
      "metadata": {
        "id": "4Rg3YLTaBlM7"
      },
      "id": "4Rg3YLTaBlM7"
    },
    {
      "cell_type": "markdown",
      "source": [
        "Sometimes you want to read the entirety of a text, and sometimes you just want the gist of it. Generative AI models can help create summaries of longer texts."
      ],
      "metadata": {
        "id": "enyoh31qCi94"
      },
      "id": "enyoh31qCi94"
    },
    {
      "cell_type": "markdown",
      "source": [
        "You may want to continue to use the more tightly-constrained temperature and top_p parameters we used above:"
      ],
      "metadata": {
        "id": "JyW4A1bZClyh"
      },
      "id": "JyW4A1bZClyh"
    },
    {
      "cell_type": "code",
      "source": [
        "predictable_gen_config = GenerationConfig(temperature=0.1, top_p=0.1)"
      ],
      "metadata": {
        "id": "V4eOI9MHBfYK"
      },
      "id": "V4eOI9MHBfYK",
      "execution_count": 14,
      "outputs": []
    },
    {
      "cell_type": "markdown",
      "source": [
        "Notice how this prompt's instructions to summarize also give some guidance on the length of the summary desired. Run the following code block in a new code cell to generate a short summary."
      ],
      "metadata": {
        "id": "LfPneDgzCsLm"
      },
      "id": "LfPneDgzCsLm"
    },
    {
      "cell_type": "code",
      "source": [
        "prompt = \"\"\"\n",
        "Provide a very short summary, no more than three sentences, for the following article:\n",
        "\n",
        "Our quantum computers work by manipulating qubits in an orchestrated fashion that we call quantum algorithms.\n",
        "The challenge is that qubits are so sensitive that even stray light can cause calculation errors — and the problem worsens as quantum computers grow.\n",
        "This has significant consequences, since the best quantum algorithms that we know for running useful applications require the error rates of our qubits to be far lower than we have today.\n",
        "To bridge this gap, we will need quantum error correction.\n",
        "Quantum error correction protects information by encoding it across multiple physical qubits to form a \"logical qubit,\" and is believed to be the only way to produce a large-scale quantum computer with error rates low enough for useful calculations.\n",
        "Instead of computing on the individual qubits themselves, we will then compute on logical qubits. By encoding larger numbers of physical qubits on our quantum processor into one logical qubit, we hope to reduce the error rates to enable useful quantum algorithms.\n",
        "\n",
        "Summary:\n",
        "\n",
        "\"\"\"\n",
        "\n",
        "response = model.generate_content(\n",
        "    prompt, generation_config=predictable_gen_config\n",
        ")\n",
        "print(response.text)"
      ],
      "metadata": {
        "colab": {
          "base_uri": "https://localhost:8080/"
        },
        "id": "98exEisiCssV",
        "outputId": "9895bed3-559d-4cb6-b4e0-e9cad30ca1ca"
      },
      "id": "98exEisiCssV",
      "execution_count": 15,
      "outputs": [
        {
          "output_type": "stream",
          "name": "stdout",
          "text": [
            "Quantum computers are currently limited by high error rates due to qubit sensitivity. Quantum error correction, which encodes information across multiple physical qubits to form a more stable \"logical qubit,\" is necessary to reduce these errors. This approach is crucial for enabling large-scale, useful quantum computations.\n",
            "\n"
          ]
        }
      ]
    },
    {
      "cell_type": "markdown",
      "source": [
        "You might prefer your summary to be delivered as bullet points, displayed using Markdown to interpret the text formatting that Gemini returns:"
      ],
      "metadata": {
        "id": "JRnlUBJbCx2F"
      },
      "id": "JRnlUBJbCx2F"
    },
    {
      "cell_type": "code",
      "source": [
        "prompt = \"\"\"\n",
        "Provide a very short summary in four bullet points for the following article:\n",
        "\n",
        "Our quantum computers work by manipulating qubits in an orchestrated fashion that we call quantum algorithms.\n",
        "The challenge is that qubits are so sensitive that even stray light can cause calculation errors — and the problem worsens as quantum computers grow.\n",
        "This has significant consequences, since the best quantum algorithms that we know for running useful applications require the error rates of our qubits to be far lower than we have today.\n",
        "To bridge this gap, we will need quantum error correction.\n",
        "Quantum error correction protects information by encoding it across multiple physical qubits to form a \"logical qubit,\" and is believed to be the only way to produce a large-scale quantum computer with error rates low enough for useful calculations.\n",
        "Instead of computing on the individual qubits themselves, we will then compute on logical qubits. By encoding larger numbers of physical qubits on our quantum processor into one logical qubit, we hope to reduce the error rates to enable useful quantum algorithms.\n",
        "\n",
        "Bullet points:\n",
        "\n",
        "\"\"\"\n",
        "\n",
        "response = model.generate_content(\n",
        "    contents=prompt, generation_config=predictable_gen_config\n",
        ")\n",
        "Markdown(response.text)"
      ],
      "metadata": {
        "colab": {
          "base_uri": "https://localhost:8080/",
          "height": 122
        },
        "id": "p84gPdKPCyiS",
        "outputId": "d30bfe46-bbeb-4447-e479-785f23a5df4b"
      },
      "id": "p84gPdKPCyiS",
      "execution_count": 16,
      "outputs": [
        {
          "output_type": "execute_result",
          "data": {
            "text/plain": [
              "<IPython.core.display.Markdown object>"
            ],
            "text/markdown": "Here's a four-bullet-point summary:\n\n*   Quantum computers use qubits, which are highly susceptible to errors.\n*   Current error rates are too high for running complex, useful quantum algorithms.\n*   Quantum error correction, using \"logical qubits\" encoded across multiple physical qubits, is needed.\n*   This approach aims to reduce error rates and enable practical quantum computation.\n"
          },
          "metadata": {},
          "execution_count": 16
        }
      ]
    },
    {
      "cell_type": "markdown",
      "source": [
        "Summarization can also be done on other forms of documents, like an email thread or the transcript of a conversation:"
      ],
      "metadata": {
        "id": "vRWry1XxC28r"
      },
      "id": "vRWry1XxC28r"
    },
    {
      "cell_type": "code",
      "source": [
        "prompt = \"\"\"\n",
        "Please generate a summary of the following conversation and at the end summarize the to-do's for the support Agent:\n",
        "\n",
        "Customer: Hi, I'm Larry, and I received the wrong item.\n",
        "\n",
        "Support Agent: Hi, Larry. How would you like to see this resolved?\n",
        "\n",
        "Customer: That's alright. I want to return the item and get a refund, please.\n",
        "\n",
        "Support Agent: Of course. I can process the refund for you now. Can I have your order number, please?\n",
        "\n",
        "Customer: It's [ORDER NUMBER].\n",
        "\n",
        "Support Agent: Thank you. I've processed the refund, and you will receive your money back within 14 days.\n",
        "\n",
        "Customer: Thank you very much.\n",
        "\n",
        "Support Agent: You're welcome, Larry. Have a good day!\n",
        "\n",
        "Summary:\n",
        "\"\"\"\n",
        "\n",
        "response = model.generate_content(\n",
        "    contents=prompt, generation_config=predictable_gen_config\n",
        ")\n",
        "Markdown(response.text)"
      ],
      "metadata": {
        "colab": {
          "base_uri": "https://localhost:8080/",
          "height": 145
        },
        "id": "tQr200B5C6AN",
        "outputId": "4a6a8b6e-dfcf-4bba-b83b-2414fd49b82f"
      },
      "id": "tQr200B5C6AN",
      "execution_count": 17,
      "outputs": [
        {
          "output_type": "execute_result",
          "data": {
            "text/plain": [
              "<IPython.core.display.Markdown object>"
            ],
            "text/markdown": "Larry contacted support because he received the wrong item. He requested a refund and to return the incorrect item. The support agent processed the refund after obtaining the order number. Larry was informed he would receive the refund within 14 days.\n\nTo-do's for the Support Agent:\n\n*   **Ensure the refund was successfully processed.**\n*   **Potentially provide instructions or a return label for Larry to return the incorrect item.** (This wasn't explicitly stated, but is a common practice).\n*   **Follow up with Larry in 14 days to ensure he received the refund.** (Optional, but good customer service).\n"
          },
          "metadata": {},
          "execution_count": 17
        }
      ]
    },
    {
      "cell_type": "markdown",
      "source": [
        "# Text Extraction"
      ],
      "metadata": {
        "id": "re2vAuIFDw69"
      },
      "id": "re2vAuIFDw69"
    },
    {
      "cell_type": "markdown",
      "source": [
        "Text Extraction is the process of pulling structured fields from unstructured text. By unstructured text, we mean text that lacks a computer-readable structure like CSV, JSON, or YAML, even if a human can identify some structure (like in the ingredient list of a recipe).\n",
        "\n",
        "Some specific types of extraction include:\n",
        "\n",
        "- Named entity recognition (NER): Extract named entities from text, including people, places, organizations, and dates.\n",
        "- Relation extraction: Extract the relationships between entities in text, such as family relationships between people.\n",
        "- Event extraction: Extract events from text, such as project milestones and product launches.\n",
        "- Question answering: Extract information from text to answer a question.\n"
      ],
      "metadata": {
        "id": "vLr17NyVD1AT"
      },
      "id": "vLr17NyVD1AT"
    },
    {
      "cell_type": "markdown",
      "source": [
        "Run the following code in a code cell to see an example of Extraction."
      ],
      "metadata": {
        "id": "1247Lb-EEFSV"
      },
      "id": "1247Lb-EEFSV"
    },
    {
      "cell_type": "code",
      "source": [
        "order = \"We need eight grilled cheese sandwiches. Two with swiss cheese, three with muenster, three with cheddar.\"\n",
        "\n",
        "prompt = \"\"\"\n",
        "    Break the customer's order into individual items with keys for the following fields:\n",
        "    - item_name\n",
        "    - cheese_selection\n",
        "\n",
        "    Order:\n",
        "    {order_field}\n",
        "\"\"\".format(order_field=order)\n",
        "\n",
        "response = model.generate_content(\n",
        "    contents=prompt, generation_config=predictable_gen_config\n",
        ")\n",
        "print(response.text)"
      ],
      "metadata": {
        "colab": {
          "base_uri": "https://localhost:8080/"
        },
        "id": "ZL0c_PIvDx70",
        "outputId": "cb9e70cd-d5c4-4672-805e-649d50e4e299"
      },
      "id": "ZL0c_PIvDx70",
      "execution_count": 18,
      "outputs": [
        {
          "output_type": "stream",
          "name": "stdout",
          "text": [
            "```json\n",
            "[\n",
            "  {\n",
            "    \"item_name\": \"Grilled Cheese Sandwich\",\n",
            "    \"cheese_selection\": \"Swiss\"\n",
            "  },\n",
            "  {\n",
            "    \"item_name\": \"Grilled Cheese Sandwich\",\n",
            "    \"cheese_selection\": \"Swiss\"\n",
            "  },\n",
            "  {\n",
            "    \"item_name\": \"Grilled Cheese Sandwich\",\n",
            "    \"cheese_selection\": \"Muenster\"\n",
            "  },\n",
            "  {\n",
            "    \"item_name\": \"Grilled Cheese Sandwich\",\n",
            "    \"cheese_selection\": \"Muenster\"\n",
            "  },\n",
            "  {\n",
            "    \"item_name\": \"Grilled Cheese Sandwich\",\n",
            "    \"cheese_selection\": \"Muenster\"\n",
            "  },\n",
            "  {\n",
            "    \"item_name\": \"Grilled Cheese Sandwich\",\n",
            "    \"cheese_selection\": \"Cheddar\"\n",
            "  },\n",
            "  {\n",
            "    \"item_name\": \"Grilled Cheese Sandwich\",\n",
            "    \"cheese_selection\": \"Cheddar\"\n",
            "  },\n",
            "  {\n",
            "    \"item_name\": \"Grilled Cheese Sandwich\",\n",
            "    \"cheese_selection\": \"Cheddar\"\n",
            "  }\n",
            "]\n",
            "```\n",
            "\n"
          ]
        }
      ]
    },
    {
      "cell_type": "markdown",
      "source": [
        "Note: Gemini's [Function Calling](https://ai.google.dev/gemini-api/tutorials/extract_structured_data#use_function_calling) has capabilities to extract parameters according to their descriptions in order to allow you to call a function. While this is outside of the scope of this lab, you may want to investigate using these capabilities for Extraction, even if your end goal isn't to call a function."
      ],
      "metadata": {
        "id": "dL1n6O8pEO7B"
      },
      "id": "dL1n6O8pEO7B"
    },
    {
      "cell_type": "markdown",
      "source": [
        "# Question Answering"
      ],
      "metadata": {
        "id": "K94o5WTJEfjS"
      },
      "id": "K94o5WTJEfjS"
    },
    {
      "cell_type": "markdown",
      "source": [
        "Answering questions is one of the most common and most impressive uses of generative AI. The information the model returns could come from patterns in data the model was trained on or from additional information you provide the model as context.\n",
        "\n"
      ],
      "metadata": {
        "id": "LqrNo5fNEtgF"
      },
      "id": "LqrNo5fNEtgF"
    },
    {
      "cell_type": "markdown",
      "source": [
        "Run this code for an example of answering an Open Domain question, meaning its answer is publically available on the internet and does not require very recent or up-to-date knowledge. An answer that meets those qualifications may have been included in the model's training data:"
      ],
      "metadata": {
        "id": "DOr3sGqjE07D"
      },
      "id": "DOr3sGqjE07D"
    },
    {
      "cell_type": "code",
      "source": [
        "prompt = \"\"\"Q: Who was President of the United States in 1955?\n",
        "              Which party did he belong to?\n",
        "            A:\n",
        "        \"\"\"\n",
        "response = model.generate_content(\n",
        "    contents=prompt, generation_config=predictable_gen_config\n",
        ")\n",
        "print(response.text)"
      ],
      "metadata": {
        "colab": {
          "base_uri": "https://localhost:8080/"
        },
        "id": "x1ldW-SGEcyq",
        "outputId": "5a5ef56c-d34f-4b51-ceb9-452119e386ea"
      },
      "id": "x1ldW-SGEcyq",
      "execution_count": 19,
      "outputs": [
        {
          "output_type": "stream",
          "name": "stdout",
          "text": [
            "A: Dwight D. Eisenhower\n",
            "   Republican Party\n",
            "\n"
          ]
        }
      ]
    },
    {
      "cell_type": "markdown",
      "source": [
        "Run this code for an example of answering an closed domain question, meaning its answer may be private to your organization and therefore you need to provide that information to the model within the prompt's \"context\":"
      ],
      "metadata": {
        "id": "WhqsAXysE7S2"
      },
      "id": "WhqsAXysE7S2"
    },
    {
      "cell_type": "code",
      "source": [
        "context = \"\"\"\n",
        "Storage and content policy \\n\n",
        "How durable is my data in Cloud Storage? \\n\n",
        "Cloud Storage is designed for 99.999999999% (11 9's) annual durability, which is appropriate for even primary storage and\n",
        "business-critical applications. This high durability level is achieved through erasure coding that stores data pieces redundantly\n",
        "across multiple devices located in multiple availability zones.\n",
        "Objects written to Cloud Storage must be redundantly stored in at least two different availability zones before the\n",
        "write is acknowledged as successful. Checksums are stored and regularly revalidated to proactively verify that the data\n",
        "integrity of all data at rest as well as to detect corruption of data in transit. If required, corrections are automatically\n",
        "made using redundant data. Customers can optionally enable object versioning to add protection against accidental deletion.\n",
        "\"\"\"\n",
        "\n",
        "question = \"How is high availability achieved?\"\n",
        "\n",
        "prompt = f\"\"\"Answer the question given in the contex below:\n",
        "Context: {context}?\\n\n",
        "Question: {question} \\n\n",
        "Answer:\n",
        "\"\"\"\n",
        "\n",
        "print(\"[Prompt]\")\n",
        "print(prompt)\n",
        "\n",
        "print(\"[Response]\")\n",
        "response = model.generate_content(contents=prompt, generation_config=predictable_gen_config)\n",
        "print(response.text)"
      ],
      "metadata": {
        "colab": {
          "base_uri": "https://localhost:8080/"
        },
        "id": "mNnxMh35E7xU",
        "outputId": "469507ce-995b-42b0-af16-671f7e0511ff"
      },
      "id": "mNnxMh35E7xU",
      "execution_count": 20,
      "outputs": [
        {
          "output_type": "stream",
          "name": "stdout",
          "text": [
            "[Prompt]\n",
            "Answer the question given in the contex below:\n",
            "Context: \n",
            "Storage and content policy \n",
            "\n",
            "How durable is my data in Cloud Storage? \n",
            "\n",
            "Cloud Storage is designed for 99.999999999% (11 9's) annual durability, which is appropriate for even primary storage and\n",
            "business-critical applications. This high durability level is achieved through erasure coding that stores data pieces redundantly\n",
            "across multiple devices located in multiple availability zones.\n",
            "Objects written to Cloud Storage must be redundantly stored in at least two different availability zones before the\n",
            "write is acknowledged as successful. Checksums are stored and regularly revalidated to proactively verify that the data\n",
            "integrity of all data at rest as well as to detect corruption of data in transit. If required, corrections are automatically\n",
            "made using redundant data. Customers can optionally enable object versioning to add protection against accidental deletion.\n",
            "?\n",
            "\n",
            "Question: How is high availability achieved? \n",
            "\n",
            "Answer:\n",
            "\n",
            "[Response]\n",
            "High durability is achieved through erasure coding that stores data pieces redundantly across multiple devices located in multiple availability zones. Objects written to Cloud Storage must be redundantly stored in at least two different availability zones before the write is acknowledged as successful.\n",
            "\n"
          ]
        }
      ]
    },
    {
      "cell_type": "markdown",
      "source": [
        "Note: Evaluating the correctness of question-answering systems can be challenging, but Vertex AI provides a [Generative AI evaluation service](https://cloud.google.com/vertex-ai/generative-ai/docs/models/determine-eval#question-answering) with some metrics tailor-made for this use case."
      ],
      "metadata": {
        "id": "r4JS9W5ZFBOJ"
      },
      "id": "r4JS9W5ZFBOJ"
    },
    {
      "cell_type": "code",
      "source": [],
      "metadata": {
        "id": "t3cK4lmpFGQI"
      },
      "id": "t3cK4lmpFGQI",
      "execution_count": null,
      "outputs": []
    }
  ],
  "metadata": {
    "kernelspec": {
      "display_name": "Python 3",
      "language": "python",
      "name": "python3"
    },
    "language_info": {
      "codemirror_mode": {
        "name": "ipython",
        "version": 3
      },
      "file_extension": ".py",
      "mimetype": "text/x-python",
      "name": "python",
      "nbconvert_exporter": "python",
      "pygments_lexer": "ipython3",
      "version": "3.10.10"
    },
    "colab": {
      "provenance": [],
      "name": "gen-ai-use-cases.ipynb"
    }
  },
  "nbformat": 4,
  "nbformat_minor": 5
}